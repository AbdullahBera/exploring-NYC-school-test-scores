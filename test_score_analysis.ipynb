{
  "nbformat": 4,
  "nbformat_minor": 0,
  "metadata": {
    "colab": {
      "provenance": [],
      "authorship_tag": "ABX9TyOdrJeHDStat9+9cRkg7FX9",
      "include_colab_link": true
    },
    "kernelspec": {
      "name": "python3",
      "display_name": "Python 3"
    },
    "language_info": {
      "name": "python"
    }
  },
  "cells": [
    {
      "cell_type": "markdown",
      "metadata": {
        "id": "view-in-github",
        "colab_type": "text"
      },
      "source": [
        "<a href=\"https://colab.research.google.com/github/AbdullahBera/exploring-NYC-school-test-scores/blob/main/test_score_analysis.ipynb\" target=\"_parent\"><img src=\"https://colab.research.google.com/assets/colab-badge.svg\" alt=\"Open In Colab\"/></a>"
      ]
    },
    {
      "cell_type": "code",
      "execution_count": 1,
      "metadata": {
        "colab": {
          "base_uri": "https://localhost:8080/",
          "height": 73
        },
        "id": "HeNkUkrgVXjD",
        "outputId": "c4f1d993-a0f1-426d-ab20-8f4bdcc15ca0"
      },
      "outputs": [
        {
          "output_type": "display_data",
          "data": {
            "text/plain": [
              "<IPython.core.display.HTML object>"
            ],
            "text/html": [
              "\n",
              "     <input type=\"file\" id=\"files-e53986f8-ac20-4393-a782-67f79411849e\" name=\"files[]\" multiple disabled\n",
              "        style=\"border:none\" />\n",
              "     <output id=\"result-e53986f8-ac20-4393-a782-67f79411849e\">\n",
              "      Upload widget is only available when the cell has been executed in the\n",
              "      current browser session. Please rerun this cell to enable.\n",
              "      </output>\n",
              "      <script>// Copyright 2017 Google LLC\n",
              "//\n",
              "// Licensed under the Apache License, Version 2.0 (the \"License\");\n",
              "// you may not use this file except in compliance with the License.\n",
              "// You may obtain a copy of the License at\n",
              "//\n",
              "//      http://www.apache.org/licenses/LICENSE-2.0\n",
              "//\n",
              "// Unless required by applicable law or agreed to in writing, software\n",
              "// distributed under the License is distributed on an \"AS IS\" BASIS,\n",
              "// WITHOUT WARRANTIES OR CONDITIONS OF ANY KIND, either express or implied.\n",
              "// See the License for the specific language governing permissions and\n",
              "// limitations under the License.\n",
              "\n",
              "/**\n",
              " * @fileoverview Helpers for google.colab Python module.\n",
              " */\n",
              "(function(scope) {\n",
              "function span(text, styleAttributes = {}) {\n",
              "  const element = document.createElement('span');\n",
              "  element.textContent = text;\n",
              "  for (const key of Object.keys(styleAttributes)) {\n",
              "    element.style[key] = styleAttributes[key];\n",
              "  }\n",
              "  return element;\n",
              "}\n",
              "\n",
              "// Max number of bytes which will be uploaded at a time.\n",
              "const MAX_PAYLOAD_SIZE = 100 * 1024;\n",
              "\n",
              "function _uploadFiles(inputId, outputId) {\n",
              "  const steps = uploadFilesStep(inputId, outputId);\n",
              "  const outputElement = document.getElementById(outputId);\n",
              "  // Cache steps on the outputElement to make it available for the next call\n",
              "  // to uploadFilesContinue from Python.\n",
              "  outputElement.steps = steps;\n",
              "\n",
              "  return _uploadFilesContinue(outputId);\n",
              "}\n",
              "\n",
              "// This is roughly an async generator (not supported in the browser yet),\n",
              "// where there are multiple asynchronous steps and the Python side is going\n",
              "// to poll for completion of each step.\n",
              "// This uses a Promise to block the python side on completion of each step,\n",
              "// then passes the result of the previous step as the input to the next step.\n",
              "function _uploadFilesContinue(outputId) {\n",
              "  const outputElement = document.getElementById(outputId);\n",
              "  const steps = outputElement.steps;\n",
              "\n",
              "  const next = steps.next(outputElement.lastPromiseValue);\n",
              "  return Promise.resolve(next.value.promise).then((value) => {\n",
              "    // Cache the last promise value to make it available to the next\n",
              "    // step of the generator.\n",
              "    outputElement.lastPromiseValue = value;\n",
              "    return next.value.response;\n",
              "  });\n",
              "}\n",
              "\n",
              "/**\n",
              " * Generator function which is called between each async step of the upload\n",
              " * process.\n",
              " * @param {string} inputId Element ID of the input file picker element.\n",
              " * @param {string} outputId Element ID of the output display.\n",
              " * @return {!Iterable<!Object>} Iterable of next steps.\n",
              " */\n",
              "function* uploadFilesStep(inputId, outputId) {\n",
              "  const inputElement = document.getElementById(inputId);\n",
              "  inputElement.disabled = false;\n",
              "\n",
              "  const outputElement = document.getElementById(outputId);\n",
              "  outputElement.innerHTML = '';\n",
              "\n",
              "  const pickedPromise = new Promise((resolve) => {\n",
              "    inputElement.addEventListener('change', (e) => {\n",
              "      resolve(e.target.files);\n",
              "    });\n",
              "  });\n",
              "\n",
              "  const cancel = document.createElement('button');\n",
              "  inputElement.parentElement.appendChild(cancel);\n",
              "  cancel.textContent = 'Cancel upload';\n",
              "  const cancelPromise = new Promise((resolve) => {\n",
              "    cancel.onclick = () => {\n",
              "      resolve(null);\n",
              "    };\n",
              "  });\n",
              "\n",
              "  // Wait for the user to pick the files.\n",
              "  const files = yield {\n",
              "    promise: Promise.race([pickedPromise, cancelPromise]),\n",
              "    response: {\n",
              "      action: 'starting',\n",
              "    }\n",
              "  };\n",
              "\n",
              "  cancel.remove();\n",
              "\n",
              "  // Disable the input element since further picks are not allowed.\n",
              "  inputElement.disabled = true;\n",
              "\n",
              "  if (!files) {\n",
              "    return {\n",
              "      response: {\n",
              "        action: 'complete',\n",
              "      }\n",
              "    };\n",
              "  }\n",
              "\n",
              "  for (const file of files) {\n",
              "    const li = document.createElement('li');\n",
              "    li.append(span(file.name, {fontWeight: 'bold'}));\n",
              "    li.append(span(\n",
              "        `(${file.type || 'n/a'}) - ${file.size} bytes, ` +\n",
              "        `last modified: ${\n",
              "            file.lastModifiedDate ? file.lastModifiedDate.toLocaleDateString() :\n",
              "                                    'n/a'} - `));\n",
              "    const percent = span('0% done');\n",
              "    li.appendChild(percent);\n",
              "\n",
              "    outputElement.appendChild(li);\n",
              "\n",
              "    const fileDataPromise = new Promise((resolve) => {\n",
              "      const reader = new FileReader();\n",
              "      reader.onload = (e) => {\n",
              "        resolve(e.target.result);\n",
              "      };\n",
              "      reader.readAsArrayBuffer(file);\n",
              "    });\n",
              "    // Wait for the data to be ready.\n",
              "    let fileData = yield {\n",
              "      promise: fileDataPromise,\n",
              "      response: {\n",
              "        action: 'continue',\n",
              "      }\n",
              "    };\n",
              "\n",
              "    // Use a chunked sending to avoid message size limits. See b/62115660.\n",
              "    let position = 0;\n",
              "    do {\n",
              "      const length = Math.min(fileData.byteLength - position, MAX_PAYLOAD_SIZE);\n",
              "      const chunk = new Uint8Array(fileData, position, length);\n",
              "      position += length;\n",
              "\n",
              "      const base64 = btoa(String.fromCharCode.apply(null, chunk));\n",
              "      yield {\n",
              "        response: {\n",
              "          action: 'append',\n",
              "          file: file.name,\n",
              "          data: base64,\n",
              "        },\n",
              "      };\n",
              "\n",
              "      let percentDone = fileData.byteLength === 0 ?\n",
              "          100 :\n",
              "          Math.round((position / fileData.byteLength) * 100);\n",
              "      percent.textContent = `${percentDone}% done`;\n",
              "\n",
              "    } while (position < fileData.byteLength);\n",
              "  }\n",
              "\n",
              "  // All done.\n",
              "  yield {\n",
              "    response: {\n",
              "      action: 'complete',\n",
              "    }\n",
              "  };\n",
              "}\n",
              "\n",
              "scope.google = scope.google || {};\n",
              "scope.google.colab = scope.google.colab || {};\n",
              "scope.google.colab._files = {\n",
              "  _uploadFiles,\n",
              "  _uploadFilesContinue,\n",
              "};\n",
              "})(self);\n",
              "</script> "
            ]
          },
          "metadata": {}
        },
        {
          "output_type": "stream",
          "name": "stdout",
          "text": [
            "Saving schools.csv to schools.csv\n"
          ]
        }
      ],
      "source": [
        "from google.colab import files\n",
        "uploaded = files.upload()\n"
      ]
    },
    {
      "cell_type": "code",
      "source": [
        "import pandas as pd\n"
      ],
      "metadata": {
        "id": "FvNh8sBcVfBP"
      },
      "execution_count": 2,
      "outputs": []
    },
    {
      "cell_type": "code",
      "source": [
        "# read csv files\n",
        "schools = pd.read_csv(\"schools.csv\")"
      ],
      "metadata": {
        "id": "kohKjfvTVnMI"
      },
      "execution_count": 3,
      "outputs": []
    },
    {
      "cell_type": "code",
      "source": [
        "print(schools.head(10))"
      ],
      "metadata": {
        "colab": {
          "base_uri": "https://localhost:8080/"
        },
        "id": "3rrwoObeVt0Q",
        "outputId": "47bf7ad9-a44d-43c6-86ca-e4ce2934c1a9"
      },
      "execution_count": 4,
      "outputs": [
        {
          "output_type": "stream",
          "name": "stdout",
          "text": [
            "                                         school_name    borough building_code  \\\n",
            "0  New Explorations into Science, Technology and ...  Manhattan          M022   \n",
            "1                               Essex Street Academy  Manhattan          M445   \n",
            "2                       Lower Manhattan Arts Academy  Manhattan          M445   \n",
            "3    High School for Dual Language and Asian Studies  Manhattan          M445   \n",
            "4      Henry Street School for International Studies  Manhattan          M056   \n",
            "5                     Bard High School Early College  Manhattan          M097   \n",
            "6       Urban Assembly Academy of Government and Law  Manhattan          M445   \n",
            "7                            Marta Valle High School  Manhattan          M025   \n",
            "8                University Neighborhood High School  Manhattan          M446   \n",
            "9                             New Design High School  Manhattan          M445   \n",
            "\n",
            "   average_math  average_reading  average_writing  percent_tested  \n",
            "0           657              601              601             NaN  \n",
            "1           395              411              387            78.9  \n",
            "2           418              428              415            65.1  \n",
            "3           613              453              463            95.9  \n",
            "4           410              406              381            59.7  \n",
            "5           634              641              639            70.8  \n",
            "6           389              395              381            80.8  \n",
            "7           438              413              394            35.6  \n",
            "8           437              355              352            69.9  \n",
            "9           381              396              372            73.7  \n"
          ]
        }
      ]
    },
    {
      "cell_type": "code",
      "source": [
        "# best math scores\n",
        "\n",
        "best_math_schools = schools[schools[\"average_math\"]>800*0.8][[\"school_name\",\"average_math\"]].sort_values(by=\"average_math\", ascending=False)\n",
        "\n",
        "print(best_math_schools)"
      ],
      "metadata": {
        "colab": {
          "base_uri": "https://localhost:8080/"
        },
        "id": "wpqh1Hj5Vyd7",
        "outputId": "e85fb3e7-a83d-497f-c817-9718e4699f04"
      },
      "execution_count": 7,
      "outputs": [
        {
          "output_type": "stream",
          "name": "stdout",
          "text": [
            "                                           school_name  average_math\n",
            "88                              Stuyvesant High School           754\n",
            "170                       Bronx High School of Science           714\n",
            "93                 Staten Island Technical High School           711\n",
            "365  Queens High School for the Sciences at York Co...           701\n",
            "68   High School for Mathematics, Science, and Engi...           683\n",
            "280                     Brooklyn Technical High School           682\n",
            "333                        Townsend Harris High School           680\n",
            "174  High School of American Studies at Lehman College           669\n",
            "0    New Explorations into Science, Technology and ...           657\n",
            "45                       Eleanor Roosevelt High School           641\n"
          ]
        }
      ]
    },
    {
      "cell_type": "code",
      "source": [
        "# best performing schools\n",
        "\n",
        "schools[\"total_SAT\"] = schools[\"average_math\"] + schools[\"average_reading\"] + schools[\"average_writing\"]\n",
        "\n",
        "top_10_schools = schools[[\"school_name\",\"total_SAT\"]].sort_values(by=\"total_SAT\", ascending=False).head(10)\n",
        "print(top_10_schools)"
      ],
      "metadata": {
        "colab": {
          "base_uri": "https://localhost:8080/"
        },
        "id": "TYyVJXPzWe9U",
        "outputId": "37235af7-986f-42cc-ff3d-7ffefbc1b476"
      },
      "execution_count": 14,
      "outputs": [
        {
          "output_type": "stream",
          "name": "stdout",
          "text": [
            "                                           school_name  total_SAT\n",
            "88                              Stuyvesant High School       2144\n",
            "170                       Bronx High School of Science       2041\n",
            "93                 Staten Island Technical High School       2041\n",
            "174  High School of American Studies at Lehman College       2013\n",
            "333                        Townsend Harris High School       1981\n",
            "365  Queens High School for the Sciences at York Co...       1947\n",
            "5                       Bard High School Early College       1914\n",
            "280                     Brooklyn Technical High School       1896\n",
            "45                       Eleanor Roosevelt High School       1889\n",
            "68   High School for Mathematics, Science, and Engi...       1889\n"
          ]
        }
      ]
    },
    {
      "cell_type": "code",
      "source": [
        "# borough with highest std\n",
        "\n",
        "borough = schools.groupby(\"borough\")[\"total_SAT\"].agg([\"count\",\"std\",\"mean\"]).round(2).reset_index()\n",
        "\n",
        "largest_std_dev = borough[borough[\"std\"] == borough[\"std\"].max()]\n",
        "\n",
        "print(borough)\n",
        "\n",
        "\n",
        "largest_std_dev = largest_std_dev.rename(columns={\"count\":\"num_schools\", \"sd\":\"average_SAT\",\"mean\":\"std_SAT\"})\n",
        "print(largest_std_dev)"
      ],
      "metadata": {
        "colab": {
          "base_uri": "https://localhost:8080/"
        },
        "id": "lR5zOpplXOU-",
        "outputId": "7995a600-db07-49de-e7af-b1b53b2c3b85"
      },
      "execution_count": 29,
      "outputs": [
        {
          "output_type": "stream",
          "name": "stdout",
          "text": [
            "         borough  count     std     mean\n",
            "0          Bronx     98  150.39  1202.72\n",
            "1       Brooklyn    109  154.87  1230.26\n",
            "2      Manhattan     89  230.29  1340.13\n",
            "3         Queens     69  195.25  1345.48\n",
            "4  Staten Island     10  222.30  1439.00\n",
            "     borough  num_schools     std  std_SAT\n",
            "2  Manhattan           89  230.29  1340.13\n"
          ]
        }
      ]
    },
    {
      "cell_type": "code",
      "source": [],
      "metadata": {
        "id": "hbSvGxkXYsPj"
      },
      "execution_count": null,
      "outputs": []
    }
  ]
}